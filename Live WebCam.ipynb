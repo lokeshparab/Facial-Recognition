{
 "cells": [
  {
   "cell_type": "markdown",
   "id": "01875a92",
   "metadata": {},
   "source": [
    "# **Live Webcam**"
   ]
  },
  {
   "cell_type": "code",
   "execution_count": 2,
   "id": "0367936f",
   "metadata": {},
   "outputs": [
    {
     "name": "stdout",
     "output_type": "stream",
     "text": [
      "Collecting opencv-python\n",
      "  Downloading opencv_python-4.6.0.66-cp36-abi3-win_amd64.whl (35.6 MB)\n",
      "Requirement already satisfied: numpy>=1.14.5 in c:\\users\\asus\\anaconda3\\lib\\site-packages (from opencv-python) (1.21.5)\n",
      "Installing collected packages: opencv-python\n",
      "Successfully installed opencv-python-4.6.0.66\n",
      "Requirement already satisfied: numpy in c:\\users\\asus\\anaconda3\\lib\\site-packages (1.21.5)\n"
     ]
    }
   ],
   "source": [
    "!pip install opencv-python\n",
    "!pip install numpy"
   ]
  },
  {
   "cell_type": "code",
   "execution_count": 1,
   "id": "87eeae65",
   "metadata": {},
   "outputs": [],
   "source": [
    "import cv2 as cv\n",
    "import numpy as np"
   ]
  },
  {
   "cell_type": "markdown",
   "id": "2aedc465",
   "metadata": {},
   "source": [
    "1. **cv.VideoCapture()**\n",
    "2. **cv.VideoCapture(\tconst String & \tfilename, int apiPreference = CAP_ANY )**\n",
    "3.  **cv.VideoCapture(\tconst String & \tfilename, int apiPreference, const std::vector< int > & params  )**\n",
    "4. **cv.VideoCapture( int index, int apiPreference = CAP_ANY )**\n",
    "5. **cv.VideoCapture(\tconst String & \tfilename, int apiPreference, const std::vector< int > & params  )**"
   ]
  },
  {
   "cell_type": "code",
   "execution_count": 16,
   "id": "bc586ca7",
   "metadata": {},
   "outputs": [],
   "source": [
    "camera = cv.VideoCapture(0) # by runing this led light of cam will on\n",
    "\n",
    "while True:\n",
    "    \n",
    "    _, frame = camera.read()\n",
    "    \n",
    "    cv.imshow(\"Camera\", frame)\n",
    "    \n",
    "    key = cv.waitKey(30)\n",
    "    \n",
    "    if key == 27:\n",
    "        cv.destroyAllWindows()\n",
    "        break\n",
    "    \n",
    "\n",
    "\n",
    "camera.release()\n",
    "\n",
    "#by pressing any key it will capture the image"
   ]
  },
  {
   "cell_type": "markdown",
   "id": "c5d898d8",
   "metadata": {},
   "source": [
    "**Actual Live Cam**"
   ]
  },
  {
   "cell_type": "code",
   "execution_count": 5,
   "id": "3184703c",
   "metadata": {},
   "outputs": [],
   "source": [
    "camera = cv.VideoCapture(0) # by runing this led light of cam will on\n",
    "\n",
    "while True:\n",
    "    \n",
    "    _, frame = camera.read()\n",
    "    \n",
    "    cv.imshow(\"Camera with 33 FPS\", frame)\n",
    "    \n",
    "    key = cv.waitKey(30)\n",
    "    \n",
    "    if key == 27:\n",
    "        cv.destroyAllWindows()\n",
    "        break\n",
    "    \n",
    "\n",
    "\n",
    "camera.release()"
   ]
  },
  {
   "cell_type": "code",
   "execution_count": null,
   "id": "23071837",
   "metadata": {},
   "outputs": [],
   "source": [
    "camera = cv.VideoCapture(0) # by runing this led light of cam will on\n",
    "\n",
    "while True:\n",
    "    \n",
    "    _, frame = camera.read()\n",
    "    \n",
    "    cv.imshow(\"Camera with 1000 FPS\", frame)\n",
    "    \n",
    "    key = cv.waitKey(1)\n",
    "    \n",
    "    if key == 27:\n",
    "        cv.destroyAllWindows()\n",
    "        break\n",
    "    \n",
    "\n",
    "\n",
    "camera.release()"
   ]
  },
  {
   "cell_type": "markdown",
   "id": "6b8c6f75",
   "metadata": {},
   "source": [
    "**Flip Frame**"
   ]
  },
  {
   "cell_type": "code",
   "execution_count": 4,
   "id": "c07f73c9",
   "metadata": {},
   "outputs": [],
   "source": [
    "camera = cv.VideoCapture(0) # by runing this led light of cam will on\n",
    "\n",
    "while True:\n",
    "    \n",
    "    _, frame = camera.read()\n",
    "    \n",
    "    frame = cv.flip(frame,1) # 1 indicates to flip frame like mirror\n",
    "    \n",
    "    cv.imshow(\"SideFlip Frame\", frame)\n",
    "    \n",
    "    key = cv.waitKey(1)  # input defines time taken for each frame\n",
    "    \n",
    "    if key == 27:\n",
    "        cv.destroyAllWindows()\n",
    "        break\n",
    "    \n",
    "\n",
    "\n",
    "camera.release()"
   ]
  },
  {
   "cell_type": "markdown",
   "id": "2591b813",
   "metadata": {},
   "source": [
    "**Flip Frame Upside Down**"
   ]
  },
  {
   "cell_type": "code",
   "execution_count": 3,
   "id": "d452ef56",
   "metadata": {},
   "outputs": [],
   "source": [
    "camera = cv.VideoCapture(0) # by runing this led light of cam will on\n",
    "\n",
    "while True:\n",
    "    \n",
    "    _, frame = camera.read()\n",
    "    \n",
    "    frame = cv.flip(frame,0) # 0 indicates to flip fram upside down\n",
    "    \n",
    "    cv.imshow(\"UpsideDown Frame\", frame)\n",
    "    \n",
    "    key = cv.waitKey(30)\n",
    "    \n",
    "    if key == 27:\n",
    "        cv.destroyAllWindows()\n",
    "        break\n",
    "    \n",
    "\n",
    "\n",
    "camera.release()"
   ]
  },
  {
   "cell_type": "markdown",
   "id": "181307ba",
   "metadata": {},
   "source": [
    "**Summary**"
   ]
  },
  {
   "cell_type": "code",
   "execution_count": 6,
   "id": "b8a6975d",
   "metadata": {},
   "outputs": [],
   "source": [
    "camera = cv.VideoCapture(0) # by runing this led light of cam will on\n",
    "\n",
    "while True:\n",
    "    \n",
    "    _, frame = camera.read()\n",
    "    \n",
    "    frame_upsidedown = cv.flip(frame,0) # 0 indicates to flip fram upside down\n",
    "    frame_side = cv.flip(frame,1)\n",
    "    \n",
    "    cv.imshow(\"Actual frame\", frame)\n",
    "    cv.imshow(\"UpsideDown Frame\", frame_upsidedown)\n",
    "    cv.imshow(\"SideFlip Frame\", frame_side)\n",
    "    \n",
    "    key = cv.waitKey(1)\n",
    "    \n",
    "    if key == 27:\n",
    "        cv.destroyAllWindows()\n",
    "        break\n",
    "    \n",
    "\n",
    "\n",
    "camera.release()"
   ]
  },
  {
   "cell_type": "markdown",
   "id": "0789783a",
   "metadata": {},
   "source": [
    "**Red Frame,Blue Frame,Green Frame**"
   ]
  },
  {
   "cell_type": "code",
   "execution_count": 5,
   "id": "08a1f6fd",
   "metadata": {},
   "outputs": [],
   "source": [
    "camera = cv.VideoCapture(0) # by runing this led light of cam will on\n",
    "\n",
    "while True:\n",
    "    \n",
    "    _, frame = camera.read()\n",
    "    frame_side = cv.flip(frame,1)  # This frame is in BGR format\n",
    "    \n",
    "    blue_frame = frame[:,:,:1]\n",
    "    green_frame = frame[:,:,1:2]\n",
    "    red_frame = frame[:,:,2:]\n",
    "    \n",
    "    cv.imshow('Original',frame)\n",
    "    cv.imshow(\"Red frame\", red_frame )\n",
    "    cv.imshow(\"Green Frame\", green_frame )\n",
    "    cv.imshow(\"Blue Frame\", blue_frame)\n",
    "    \n",
    "    key = cv.waitKey(1)\n",
    "    \n",
    "    if key == 27:\n",
    "        cv.destroyAllWindows()\n",
    "        break\n",
    "    \n",
    "\n",
    "\n",
    "camera.release()"
   ]
  },
  {
   "cell_type": "code",
   "execution_count": 2,
   "id": "b841d817",
   "metadata": {},
   "outputs": [],
   "source": [
    "camera = cv.VideoCapture(0) # by runing this led light of cam will on\n",
    "\n",
    "while True:\n",
    "    \n",
    "    _, frame = camera.read()\n",
    "    frame_side = cv.flip(frame,1)  # This frame is in BGR format\n",
    "    \n",
    "    cv.imshow('Original',frame)\n",
    "    \n",
    "    frame = cv.cvtColor(frame, cv.COLOR_BGR2RGB) #changing from BGR to RGB\n",
    "    \n",
    "    red_frame = frame[:,:,:1]\n",
    "    green_frame = frame[:,:,1:2]\n",
    "    blue_frame = frame[:,:,2:]\n",
    "    \n",
    "    cv.imshow(\"Red frame\", red_frame )\n",
    "    cv.imshow(\"Green Frame\", green_frame )\n",
    "    cv.imshow(\"Blue Frame\", blue_frame)\n",
    "    \n",
    "    key = cv.waitKey(1)\n",
    "    \n",
    "    if key == 27:\n",
    "        cv.destroyAllWindows()\n",
    "        break\n",
    "    \n",
    "\n",
    "\n",
    "camera.release()"
   ]
  },
  {
   "cell_type": "code",
   "execution_count": null,
   "id": "c506e828",
   "metadata": {},
   "outputs": [],
   "source": []
  }
 ],
 "metadata": {
  "kernelspec": {
   "display_name": "Python 3 (ipykernel)",
   "language": "python",
   "name": "python3"
  },
  "language_info": {
   "codemirror_mode": {
    "name": "ipython",
    "version": 3
   },
   "file_extension": ".py",
   "mimetype": "text/x-python",
   "name": "python",
   "nbconvert_exporter": "python",
   "pygments_lexer": "ipython3",
   "version": "3.9.12"
  }
 },
 "nbformat": 4,
 "nbformat_minor": 5
}
