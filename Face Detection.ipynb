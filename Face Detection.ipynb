{
 "cells": [
  {
   "cell_type": "markdown",
   "id": "fbbad0e2",
   "metadata": {},
   "source": [
    "# Face Detection\n",
    "\n",
    "**We are using haarcascade_frontalface_default.xml model for this detection**"
   ]
  },
  {
   "cell_type": "code",
   "execution_count": 1,
   "id": "e3830c99",
   "metadata": {},
   "outputs": [
    {
     "name": "stdout",
     "output_type": "stream",
     "text": [
      "Requirement already satisfied: opencv-python in c:\\users\\asus\\anaconda3\\lib\\site-packages (4.6.0.66)\n",
      "Requirement already satisfied: numpy>=1.17.3 in c:\\users\\asus\\anaconda3\\lib\\site-packages (from opencv-python) (1.21.5)\n",
      "Requirement already satisfied: numpy in c:\\users\\asus\\anaconda3\\lib\\site-packages (1.21.5)\n"
     ]
    }
   ],
   "source": [
    "#install cv2 and numpy\n",
    "\n",
    "!pip install opencv-python\n",
    "!pip install numpy"
   ]
  },
  {
   "cell_type": "code",
   "execution_count": 2,
   "id": "3a5151b0",
   "metadata": {},
   "outputs": [],
   "source": [
    "import cv2 as cv\n",
    "import numpy as np"
   ]
  },
  {
   "cell_type": "code",
   "execution_count": 3,
   "id": "56838d69",
   "metadata": {},
   "outputs": [],
   "source": [
    "classifer = cv.CascadeClassifier(\"haarcascade_frontalface_default.xml\")"
   ]
  },
  {
   "cell_type": "code",
   "execution_count": 8,
   "id": "d3bd420a",
   "metadata": {},
   "outputs": [],
   "source": [
    "camera = cv.VideoCapture(0) # by runing this led light of cam will on\n",
    "\n",
    "while True:\n",
    "    \n",
    "    _, frame = camera.read()\n",
    "    frame = cv.flip(frame,1) \n",
    "    \n",
    "    #detect the face and return value\n",
    "    faces = classifer.detectMultiScale(frame, 1.3, 3)\n",
    "    \n",
    "    #scanning for all faces\n",
    "    for x,y,w,h in faces:\n",
    "        \n",
    "        #create rectangle for detected face\n",
    "        cv.rectangle( frame ,(x,y) ,(x+w,y+h) ,(170,50,0) ,4)\n",
    "        \n",
    "    cv.imshow(\"SideFlip Frame\", frame)\n",
    "    \n",
    "    key = cv.waitKey(1)  \n",
    "    if key == 27:\n",
    "        cv.destroyAllWindows()\n",
    "        break\n",
    "    \n",
    "\n",
    "\n",
    "camera.release()"
   ]
  },
  {
   "cell_type": "markdown",
   "id": "eefbf647",
   "metadata": {},
   "source": [
    "**Crop the Face**"
   ]
  },
  {
   "cell_type": "code",
   "execution_count": 5,
   "id": "77188e2b",
   "metadata": {},
   "outputs": [],
   "source": [
    "camera = cv.VideoCapture(0) # by runing this led light of cam will on\n",
    "\n",
    "while True:\n",
    "    \n",
    "    _, frame = camera.read()\n",
    "    frame = cv.flip(frame,1) \n",
    "    \n",
    "    #detect the face and return value\n",
    "    faces = classifer.detectMultiScale(frame, 1.3, 3)\n",
    "    \n",
    "    #scanning for all faces\n",
    "    for x,y,w,h in faces:\n",
    "        \n",
    "        #create rectangle for detected face\n",
    "        cv.rectangle( frame ,(x,y) ,(x+w,y+h) ,(170,50,0) ,4)\n",
    "        \n",
    "        face = frame[ y:y+h, x:x+w ,:]\n",
    "        cv.imshow(\"Face Frame\", face)\n",
    "        \n",
    "    \n",
    "    cv.imshow(\"SideFlip Frame\", frame)\n",
    "\n",
    "    \n",
    "    key = cv.waitKey(1)  \n",
    "    if key == 27:\n",
    "        cv.destroyAllWindows()\n",
    "        break\n",
    "    \n",
    "\n",
    "\n",
    "camera.release()"
   ]
  },
  {
   "cell_type": "markdown",
   "id": "dbe88452",
   "metadata": {},
   "source": [
    "**Passing Gray scaling**"
   ]
  },
  {
   "cell_type": "code",
   "execution_count": 8,
   "id": "f0b28044",
   "metadata": {},
   "outputs": [],
   "source": [
    "camera = cv.VideoCapture(0) # by runing this led light of cam will on\n",
    "\n",
    "while True:\n",
    "    \n",
    "    _, frame = camera.read()\n",
    "    frame = cv.flip(frame,1) \n",
    "    \n",
    "    # gray scale format\n",
    "    gray = cv.cvtColor( frame, cv.COLOR_BGR2GRAY)\n",
    "    \n",
    "    #detect the face and return value\n",
    "    faces = classifer.detectMultiScale(gray, 1.05, 4)\n",
    "    \n",
    "    \n",
    "    #scanning for all faces\n",
    "    for x,y,w,h in faces:\n",
    "        \n",
    "        #create rectangle for detected face\n",
    "        cv.rectangle( frame ,(x,y) ,(x+w,y+h) ,(170,50,0) ,4)\n",
    "        \n",
    "        face = frame[ y:y+h, x:x+w ,:]\n",
    "        cv.imshow(\"Face Frame\", face)\n",
    "        \n",
    "    \n",
    "    cv.imshow(\"SideFlip Frame\", frame)\n",
    "\n",
    "    \n",
    "    key = cv.waitKey(1)  \n",
    "    if key == 27:\n",
    "        cv.destroyAllWindows()\n",
    "        break\n",
    "    \n",
    "\n",
    "\n",
    "camera.release()"
   ]
  },
  {
   "cell_type": "markdown",
   "id": "f6026deb",
   "metadata": {},
   "source": [
    "# Face Blur"
   ]
  },
  {
   "cell_type": "code",
   "execution_count": 9,
   "id": "0c3e60aa",
   "metadata": {},
   "outputs": [],
   "source": [
    "camera = cv.VideoCapture(0) # by runing this led light of cam will on\n",
    "\n",
    "while True:\n",
    "    \n",
    "    _, frame = camera.read()\n",
    "    frame = cv.flip(frame,1) \n",
    "    gray = cv.cvtColor( frame, cv.COLOR_BGR2GRAY)\n",
    "    faces = classifer.detectMultiScale(gray, 1.05, 4)\n",
    "    \n",
    "    for x,y,w,h in faces:\n",
    "        cv.rectangle( frame ,(x,y) ,(x+w,y+h) ,(170,50,0) ,4)\n",
    "        face = frame[ y:y+h, x:x+w ,:]\n",
    "        \n",
    "        #blur the face portion\n",
    "        frame[ y:y+h, x:x+w ,:] =  cv.blur(face, (30,30))\n",
    "        \n",
    "    \n",
    "    cv.imshow(\"Blur Face Frame\", frame)\n",
    "\n",
    "    \n",
    "    key = cv.waitKey(1)  \n",
    "    if key == 27:\n",
    "        cv.destroyAllWindows()\n",
    "        break\n",
    "    \n",
    "\n",
    "\n",
    "camera.release()"
   ]
  },
  {
   "cell_type": "code",
   "execution_count": 14,
   "id": "ba3314ed",
   "metadata": {},
   "outputs": [],
   "source": [
    "camera = cv.VideoCapture(0) # by runing this led light of cam will on\n",
    "\n",
    "while True:\n",
    "    \n",
    "    _, frame = camera.read()\n",
    "    frame = cv.flip(frame,1) \n",
    "    gray = cv.cvtColor( frame, cv.COLOR_BGR2GRAY)\n",
    "    faces = classifer.detectMultiScale(gray, 1.5, 4)\n",
    "    \n",
    "    for x,y,w,h in faces:\n",
    "        #cv.rectangle( frame ,(x,y) ,(x+w,y+h) ,(170,50,0) ,4)\n",
    "        face = frame[ y:y+h, x:x+w ,:]\n",
    "        \n",
    "        #blur the face portion\n",
    "    frame[ y:y+h, x:x+w ,:] =  cv.blur(face, (30,30))\n",
    "        \n",
    "    \n",
    "    cv.imshow(\"Blur Face Frame\", frame)\n",
    "\n",
    "    \n",
    "    key = cv.waitKey(1)  \n",
    "    if key == 27:\n",
    "        cv.destroyAllWindows()\n",
    "        break\n",
    "    \n",
    "\n",
    "\n",
    "camera.release()"
   ]
  },
  {
   "cell_type": "markdown",
   "id": "b56c0764",
   "metadata": {},
   "source": [
    "# Blur external part"
   ]
  },
  {
   "cell_type": "code",
   "execution_count": 12,
   "id": "041fa175",
   "metadata": {},
   "outputs": [],
   "source": [
    "camera = cv.VideoCapture(0) # by runing this led light of cam will on\n",
    "\n",
    "while True:\n",
    "    \n",
    "    _, frame = camera.read()\n",
    "    frame = cv.flip(frame,1) \n",
    "    gray = cv.cvtColor( frame, cv.COLOR_BGR2GRAY)\n",
    "    frame1 = cv.blur(frame, (20,20))\n",
    "    faces = classifer.detectMultiScale(gray, 1.05, 4)\n",
    "    \n",
    "    for x,y,w,h in faces:\n",
    "        frame1[ y:y+h, x:x+w ,:] = frame[ y:y+h, x:x+w ,:]\n",
    "        \n",
    "    \n",
    "    cv.imshow(\"Blur external portion\", frame1)\n",
    "\n",
    "    \n",
    "    key = cv.waitKey(1)  \n",
    "    if key == 27:\n",
    "        cv.destroyAllWindows()\n",
    "        break\n",
    "    \n",
    "\n",
    "\n",
    "camera.release()"
   ]
  },
  {
   "cell_type": "code",
   "execution_count": null,
   "id": "2ceac37b",
   "metadata": {},
   "outputs": [],
   "source": []
  }
 ],
 "metadata": {
  "kernelspec": {
   "display_name": "Python 3 (ipykernel)",
   "language": "python",
   "name": "python3"
  },
  "language_info": {
   "codemirror_mode": {
    "name": "ipython",
    "version": 3
   },
   "file_extension": ".py",
   "mimetype": "text/x-python",
   "name": "python",
   "nbconvert_exporter": "python",
   "pygments_lexer": "ipython3",
   "version": "3.9.12"
  }
 },
 "nbformat": 4,
 "nbformat_minor": 5
}
