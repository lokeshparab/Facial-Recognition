{
 "cells": [
  {
   "cell_type": "markdown",
   "id": "0d7bd437",
   "metadata": {},
   "source": [
    "# Edge Detection"
   ]
  },
  {
   "cell_type": "code",
   "execution_count": 1,
   "id": "0bb8be59",
   "metadata": {},
   "outputs": [],
   "source": [
    "import cv2 as cv\n",
    "import numpy as np"
   ]
  },
  {
   "cell_type": "code",
   "execution_count": 10,
   "id": "3b300c57",
   "metadata": {},
   "outputs": [],
   "source": [
    "camera = cv.VideoCapture(0) # by runing this led light of cam will on\n",
    "\n",
    "while True:\n",
    "    \n",
    "    _, frame = camera.read()\n",
    "    frame = cv.flip(frame,1) \n",
    "    \n",
    "    gray = cv.cvtColor( frame, cv.COLOR_BGR2GRAY)\n",
    "    \n",
    "    #from this edge is detected\n",
    "    canny = cv.Canny(gray, 50, 100)\n",
    "    \n",
    "    cv.imshow(\"Original\", frame)\n",
    "    cv.imshow(\"Canny\", canny)\n",
    "\n",
    "    \n",
    "    key = cv.waitKey(1)  \n",
    "    if key == 27:\n",
    "        cv.destroyAllWindows()\n",
    "        break\n",
    "    \n",
    "\n",
    "\n",
    "camera.release()"
   ]
  },
  {
   "cell_type": "code",
   "execution_count": 9,
   "id": "d045f801",
   "metadata": {},
   "outputs": [],
   "source": [
    "camera = cv.VideoCapture(0) # by runing this led light of cam will on\n",
    "\n",
    "while True:\n",
    "    \n",
    "    _, frame = camera.read()\n",
    "    frame = cv.flip(frame,1) \n",
    "    \n",
    "    gray = cv.cvtColor( frame, cv.COLOR_BGR2GRAY)\n",
    "    \n",
    "    #from this edge is detected\n",
    "    # this threshold make smooth edges\n",
    "    canny = cv.Canny(gray, 20, 300)\n",
    "    \n",
    "    cv.imshow(\"Original\", frame)\n",
    "    cv.imshow(\"Canny\", canny)\n",
    "\n",
    "    \n",
    "    key = cv.waitKey(1)  \n",
    "    if key == 27:\n",
    "        cv.destroyAllWindows()\n",
    "        break\n",
    "    \n",
    "\n",
    "\n",
    "camera.release()"
   ]
  },
  {
   "cell_type": "code",
   "execution_count": 12,
   "id": "499d0224",
   "metadata": {},
   "outputs": [],
   "source": [
    "camera = cv.VideoCapture(0) # by runing this led light of cam will on\n",
    "\n",
    "while True:\n",
    "    \n",
    "    _, frame = camera.read()\n",
    "    frame = cv.flip(frame,1) \n",
    "    \n",
    "    gray = cv.cvtColor( frame, cv.COLOR_BGR2GRAY)\n",
    "    \n",
    "    blur = cv.blur(gray,(5,5))\n",
    "    \n",
    "    #from this edge is detected\n",
    "    # this threshold make smooth edges\n",
    "    canny = cv.Canny(blur, 50, 100)\n",
    "    \n",
    "    cv.imshow(\"Original\", frame)\n",
    "    cv.imshow(\"Canny\", canny)\n",
    "\n",
    "    \n",
    "    key = cv.waitKey(1)  \n",
    "    if key == 27:\n",
    "        cv.destroyAllWindows()\n",
    "        break\n",
    "    \n",
    "\n",
    "\n",
    "camera.release()"
   ]
  },
  {
   "cell_type": "markdown",
   "id": "447f2168",
   "metadata": {},
   "source": [
    "# Colour Detection"
   ]
  },
  {
   "cell_type": "code",
   "execution_count": 3,
   "id": "8da5821e",
   "metadata": {},
   "outputs": [],
   "source": [
    "camera = cv.VideoCapture(0) # by runing this led light of cam will on\n",
    "\n",
    "#range of colour\n",
    "\n",
    "lower = np.array([130,139,143])\n",
    "upper = np.array([170,180,174])\n",
    "\n",
    "\"\"\"170 180 174\n",
    "166 164 158\n",
    "    165 167 161\n",
    "    131 139 143\"\"\"\n",
    "while True:\n",
    "    \n",
    "    _, frame = camera.read()\n",
    "    frame = cv.flip(frame,1) \n",
    "    \n",
    "    frame1 = cv.cvtColor( frame, cv.COLOR_BGR2RGB)\n",
    "    \n",
    "    filter_ = cv.inRange(frame ,lower ,upper)\n",
    "    \n",
    "    \n",
    "    cv.imshow(\"Original\", frame)\n",
    "    cv.imshow(\"RGB\", frame1)\n",
    "    cv.imshow(\"Filter\", filter_)\n",
    "\n",
    "    \n",
    "    key = cv.waitKey(1)  \n",
    "    \n",
    "    if key == 13:\n",
    "        cv.imwrite(\"img.png\",frame)\n",
    "    \n",
    "    if key == 27:\n",
    "        cv.destroyAllWindows()\n",
    "        break\n",
    "    \n",
    "\n",
    "\n",
    "camera.release()"
   ]
  },
  {
   "cell_type": "code",
   "execution_count": null,
   "id": "c8509b1b",
   "metadata": {},
   "outputs": [],
   "source": []
  }
 ],
 "metadata": {
  "kernelspec": {
   "display_name": "Python 3 (ipykernel)",
   "language": "python",
   "name": "python3"
  },
  "language_info": {
   "codemirror_mode": {
    "name": "ipython",
    "version": 3
   },
   "file_extension": ".py",
   "mimetype": "text/x-python",
   "name": "python",
   "nbconvert_exporter": "python",
   "pygments_lexer": "ipython3",
   "version": "3.9.12"
  }
 },
 "nbformat": 4,
 "nbformat_minor": 5
}
