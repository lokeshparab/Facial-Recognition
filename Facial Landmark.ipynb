{
 "cells": [
  {
   "cell_type": "markdown",
   "id": "a71b4dcf",
   "metadata": {},
   "source": [
    "# Facial Landmark"
   ]
  },
  {
   "cell_type": "code",
   "execution_count": 1,
   "id": "765d33c0",
   "metadata": {},
   "outputs": [
    {
     "name": "stdout",
     "output_type": "stream",
     "text": [
      "Processing e:\\githubs\\facial-recognition\\dlib-19.22.99-cp39-cp39-win_amd64.whlNote: you may need to restart the kernel to use updated packages.\n",
      "dlib is already installed with the same version as the provided wheel. Use --force-reinstall to force an installation of the wheel.\n",
      "\n"
     ]
    }
   ],
   "source": [
    "pip install \"dlib-19.22.99-cp39-cp39-win_amd64.whl\""
   ]
  },
  {
   "cell_type": "code",
   "execution_count": 2,
   "id": "f1c0139b",
   "metadata": {},
   "outputs": [],
   "source": [
    "import dlib\n",
    "import cv2 as cv"
   ]
  },
  {
   "cell_type": "code",
   "execution_count": 3,
   "id": "6f43ae8a",
   "metadata": {},
   "outputs": [],
   "source": [
    "detector = dlib.get_frontal_face_detector()"
   ]
  },
  {
   "cell_type": "code",
   "execution_count": null,
   "id": "a8889d51",
   "metadata": {},
   "outputs": [],
   "source": [
    "camera = cv.VideoCapture(0) # by runing this led light of cam will on\n",
    "\n",
    "while True:\n",
    "    \n",
    "    _, frame = camera.read()\n",
    "    frame = cv.flip(frame,1) \n",
    "    \n",
    "    gray = cv.cvtColor( frame, cv.COLOR_BGR2GRAY)\n",
    "    #detect the face and return value\n",
    "    faces = detector(gray)\n",
    "    \n",
    "    #scanning for all faces\n",
    "    for face in faces:\n",
    "        x1 = face.left()\n",
    "        y1 = face.top()\n",
    "        x2 = face.right()\n",
    "        y2 = face.bottom()\n",
    "        \n",
    "        #create rectangle for detected face\n",
    "        cv.rectangle( frame ,(x1,y1) ,(x2,y2) ,(170,50,0) ,2)\n",
    "        \n",
    "        face = frame[ y1:y2 , x1:x2 , : ]\n",
    "        \n",
    "    cv.imshow(\"SideFlip Frame\", frame)\n",
    "    \n",
    "    key = cv.waitKey(1)  \n",
    "    if key == 27:\n",
    "        cv.destroyAllWindows()\n",
    "        break\n",
    "    \n",
    "\n",
    "\n",
    "camera.release()"
   ]
  }
 ],
 "metadata": {
  "kernelspec": {
   "display_name": "Python 3 (ipykernel)",
   "language": "python",
   "name": "python3"
  },
  "language_info": {
   "codemirror_mode": {
    "name": "ipython",
    "version": 3
   },
   "file_extension": ".py",
   "mimetype": "text/x-python",
   "name": "python",
   "nbconvert_exporter": "python",
   "pygments_lexer": "ipython3",
   "version": "3.9.12"
  }
 },
 "nbformat": 4,
 "nbformat_minor": 5
}
