{
 "cells": [
  {
   "cell_type": "markdown",
   "id": "a71b4dcf",
   "metadata": {},
   "source": [
    "# Facial Landmark\n",
    "\n",
    "<a href=\"https://github.com/davisking/dlib-models\">Model</a>"
   ]
  },
  {
   "cell_type": "code",
   "execution_count": 1,
   "id": "765d33c0",
   "metadata": {},
   "outputs": [
    {
     "name": "stdout",
     "output_type": "stream",
     "text": [
      "Processing e:\\githubs\\facial-recognition\\dlib-19.22.99-cp39-cp39-win_amd64.whlNote: you may need to restart the kernel to use updated packages.\n",
      "dlib is already installed with the same version as the provided wheel. Use --force-reinstall to force an installation of the wheel.\n",
      "\n"
     ]
    }
   ],
   "source": [
    "pip install \"dlib-19.22.99-cp39-cp39-win_amd64.whl\""
   ]
  },
  {
   "cell_type": "code",
   "execution_count": 4,
   "id": "0cadd7df",
   "metadata": {},
   "outputs": [
    {
     "name": "stdout",
     "output_type": "stream",
     "text": [
      "Requirement already satisfied: dlib in e:\\anaconda\\lib\\site-packages (19.22.99)\n",
      "Note: you may need to restart the kernel to use updated packages.\n"
     ]
    }
   ],
   "source": [
    "!pip install dlib"
   ]
  },
  {
   "cell_type": "code",
   "execution_count": 2,
   "id": "f1c0139b",
   "metadata": {},
   "outputs": [],
   "source": [
    "import dlib\n",
    "import cv2 as cv"
   ]
  },
  {
   "cell_type": "code",
   "execution_count": 17,
   "id": "6f43ae8a",
   "metadata": {},
   "outputs": [],
   "source": [
    "detector = dlib.get_frontal_face_detector()\n",
    "predictor1 = dlib.shape_predictor('shape_predictor_68_face_landmarks.dat')\n",
    "predictor2 = dlib.shape_predictor('shape_predictor_5_face_landmarks.dat')"
   ]
  },
  {
   "cell_type": "code",
   "execution_count": 15,
   "id": "a8889d51",
   "metadata": {},
   "outputs": [],
   "source": [
    "camera = cv.VideoCapture(0) # by runing this led light of cam will on\n",
    "\n",
    "while True:\n",
    "    \n",
    "    _, frame = camera.read()\n",
    "    frame = cv.flip(frame,1) \n",
    "    \n",
    "    gray = cv.cvtColor( frame, cv.COLOR_BGR2GRAY)\n",
    "    #detect the face and return value\n",
    "    faces = detector(gray)\n",
    "    \n",
    "    #scanning for all faces\n",
    "    for face in faces:\n",
    "        x1 = face.left()\n",
    "        y1 = face.top()\n",
    "        x2 = face.right()\n",
    "        y2 = face.bottom()\n",
    "        \n",
    "        #create rectangle for detected face\n",
    "        #cv.rectangle( frame ,(x1,y1) ,(x2,y2) ,(170,50,0) ,2)\n",
    "        \n",
    "        \n",
    "        #use facial predictor for this\n",
    "        pred = predictor1(frame, face)\n",
    "        \n",
    "        for pt in pred.parts():\n",
    "            \n",
    "            cv.circle( frame, (pt.x , pt.y ), 2, (255, 255, 255))\n",
    "            \n",
    "        \n",
    "    cv.imshow(\"SideFlip Frame\", frame)\n",
    "    \n",
    "    key = cv.waitKey(1)  \n",
    "    if key == 27:\n",
    "        cv.destroyAllWindows()\n",
    "        break\n",
    "    \n",
    "\n",
    "\n",
    "camera.release()"
   ]
  },
  {
   "cell_type": "markdown",
   "id": "522da936",
   "metadata": {},
   "source": []
  },
  {
   "cell_type": "code",
   "execution_count": 18,
   "id": "8df72a8a",
   "metadata": {},
   "outputs": [],
   "source": [
    "camera = cv.VideoCapture(0) # by runing this led light of cam will on\n",
    "\n",
    "while True:\n",
    "    \n",
    "    _, frame = camera.read()\n",
    "    frame = cv.flip(frame,1) \n",
    "    \n",
    "    gray = cv.cvtColor( frame, cv.COLOR_BGR2GRAY)\n",
    "    #detect the face and return value\n",
    "    faces = detector(gray)\n",
    "    \n",
    "    #scanning for all faces\n",
    "    for face in faces:\n",
    "        x1 = face.left()\n",
    "        y1 = face.top()\n",
    "        x2 = face.right()\n",
    "        y2 = face.bottom()\n",
    "        \n",
    "        #create rectangle for detected face\n",
    "        #cv.rectangle( frame ,(x1,y1) ,(x2,y2) ,(170,50,0) ,2)\n",
    "        \n",
    "        \n",
    "        #use facial predictor for this\n",
    "        pred = predictor2(frame, face)\n",
    "        \n",
    "        for pt in pred.parts():\n",
    "            \n",
    "            cv.circle( frame, (pt.x , pt.y ), 2, (255, 255, 255))\n",
    "            \n",
    "        \n",
    "    cv.imshow(\"SideFlip Frame\", frame)\n",
    "    \n",
    "    key = cv.waitKey(1)  \n",
    "    if key == 27:\n",
    "        cv.destroyAllWindows()\n",
    "        break\n",
    "    \n",
    "\n",
    "\n",
    "camera.release()"
   ]
  },
  {
   "cell_type": "code",
   "execution_count": null,
   "id": "57d3d963",
   "metadata": {},
   "outputs": [],
   "source": []
  }
 ],
 "metadata": {
  "kernelspec": {
   "display_name": "Python 3 (ipykernel)",
   "language": "python",
   "name": "python3"
  },
  "language_info": {
   "codemirror_mode": {
    "name": "ipython",
    "version": 3
   },
   "file_extension": ".py",
   "mimetype": "text/x-python",
   "name": "python",
   "nbconvert_exporter": "python",
   "pygments_lexer": "ipython3",
   "version": "3.9.12"
  }
 },
 "nbformat": 4,
 "nbformat_minor": 5
}
